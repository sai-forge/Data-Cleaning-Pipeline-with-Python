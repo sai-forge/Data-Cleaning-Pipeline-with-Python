{
 "cells": [
  {
   "cell_type": "markdown",
   "id": "900a770e",
   "metadata": {},
   "source": [
    "# Data Cleaning Pipeline\n",
    "\n",
    "Simplified steps for common data cleaning tasks."
   ]
  },
  {
   "cell_type": "code",
   "execution_count": 11,
   "id": "44cdd315",
   "metadata": {},
   "outputs": [],
   "source": [
    "import pandas as pd\n",
    "import numpy as np\n",
    "import matplotlib.pyplot as plt"
   ]
  },
  {
   "cell_type": "markdown",
   "id": "f3dc719e",
   "metadata": {},
   "source": [
    "\n",
    "## 1. Load Data\n",
    "\n",
    "```python\n",
    "df = pd.read_csv('your_data.csv')\n",
    "df.head()\n",
    "```"
   ]
  },
  {
   "cell_type": "markdown",
   "id": "c23d71b0",
   "metadata": {},
   "source": [
    "## 2. Missing Data\n",
    "Data cleaning ensures high-quality, accurate, and usable data for machine learning models. Here’s a structured approach to identifying and fixing data issues.\n",
    "- Approach: Identify columns/rows with missing values using\n"
   ]
  },
  {
   "cell_type": "code",
   "execution_count": 12,
   "id": "795475f4",
   "metadata": {},
   "outputs": [
    {
     "data": {
      "text/plain": [
       "Survived    0\n",
       "Age         0\n",
       "Embarked    2\n",
       "dtype: int64"
      ]
     },
     "execution_count": 12,
     "metadata": {},
     "output_type": "execute_result"
    }
   ],
   "source": [
    "df.isnull().sum()"
   ]
  },
  {
   "cell_type": "markdown",
   "id": "29e27165",
   "metadata": {},
   "source": [
    "## Comprehensive Guide to Handling Missing Data\n",
    "\n",
    "Missing data is a common challenge in data preprocessing and analysis. Choosing the right approach depends on the nature of the missing values, their distribution, and the impact on the model or analysis. Below are the possible techniques and their implementations."
   ]
  },
  {
   "cell_type": "markdown",
   "id": "90d4009c",
   "metadata": {},
   "source": [
    "🔸 *Deletion Methods*\n",
    "This approach is used when missing values are randomly distributed and have a low percentage in the dataset.\n",
    "\n",
    "1.1 Listwise (Row) Deletion: Removes rows where any column has missing values.\n",
    "When to use:\n",
    "\n",
    "▫️ Your dataset is large and losing a few rows won’t hurt and also best for small datasets where missing data is minimal.\n"
   ]
  },
  {
   "cell_type": "code",
   "execution_count": 13,
   "id": "5b555c55",
   "metadata": {},
   "outputs": [],
   "source": [
    "df.dropna(inplace=True)  # Removes rows with missing values"
   ]
  },
  {
   "cell_type": "markdown",
   "id": "1275afc8",
   "metadata": {},
   "source": [
    "1.2 Pairwise (Row) Deletion: This is for when you have a dataset with some missing values. Instead of removing entire rows (listwise deletion), pairwise deletion lets you keep as much data as possible for each analysis.\n",
    "\n",
    "When to use:\n",
    "\n",
    "▫️Useful for correlation and covariance calculations."
   ]
  },
  {
   "cell_type": "markdown",
   "id": "bd7c1b71",
   "metadata": {},
   "source": [
    "Sample Dataset with Missing Values 👇"
   ]
  },
  {
   "cell_type": "code",
   "execution_count": 14,
   "id": "b890dece",
   "metadata": {},
   "outputs": [
    {
     "name": "stdout",
     "output_type": "stream",
     "text": [
      "\n",
      "DataFrame after dropping rows with missing values:\n",
      "       A     B    C\n",
      "0  10.0   5.0  NaN\n",
      "1  20.0   NaN  1.0\n",
      "2   NaN  15.0  2.0\n",
      "3  40.0  20.0  3.0\n",
      "4  50.0  25.0  4.0\n"
     ]
    }
   ],
   "source": [
    "# Sample data with missing values\n",
    "data = {\n",
    "    \"A\": [10, 20, np.nan, 40, 50],\n",
    "    \"B\": [5, np.nan, 15, 20, 25],\n",
    "    \"C\": [np.nan, 1, 2, 3, 4]\n",
    "}\n",
    "\n",
    "df = pd.DataFrame(data)\n",
    "print(\"\\nDataFrame after dropping rows with missing values:\\n\", df)"
   ]
  },
  {
   "cell_type": "markdown",
   "id": "41ca7173",
   "metadata": {},
   "source": [
    "🔹 Listwise Deletion (Removes Entire Rows)\n",
    "\n",
    "🚫 Problem: Removes too much data!"
   ]
  },
  {
   "cell_type": "code",
   "execution_count": 15,
   "id": "0bef2017",
   "metadata": {},
   "outputs": [
    {
     "name": "stdout",
     "output_type": "stream",
     "text": [
      "\n",
      "Listwise Deletion:\n",
      "       A     B    C\n",
      "3  40.0  20.0  3.0\n",
      "4  50.0  25.0  4.0\n"
     ]
    }
   ],
   "source": [
    "df_listwise = df.dropna()\n",
    "print(\"\\nListwise Deletion:\\n\", df_listwise)"
   ]
  },
  {
   "cell_type": "markdown",
   "id": "d96cb147",
   "metadata": {},
   "source": [
    "🔹 Pairwise Deletion (Keeps Data for Each Pair Separately)"
   ]
  },
  {
   "cell_type": "code",
   "execution_count": 16,
   "id": "a12a94b6",
   "metadata": {},
   "outputs": [
    {
     "name": "stdout",
     "output_type": "stream",
     "text": [
      "\n",
      "Pairwise Deletion - Correlation Matrix:\n",
      "      A    B    C\n",
      "A  1.0  1.0  1.0\n",
      "B  1.0  1.0  1.0\n",
      "C  1.0  1.0  1.0\n"
     ]
    }
   ],
   "source": [
    "# Pairwise correlation (drops missing values per pair)\n",
    "corr_matrix = df.corr(method='pearson')\n",
    "print(\"\\nPairwise Deletion - Correlation Matrix:\\n\", corr_matrix)"
   ]
  },
  {
   "cell_type": "markdown",
   "id": "a1198fbd",
   "metadata": {},
   "source": [
    "I don't think I want to ever use this pair wise approach☝️😅"
   ]
  },
  {
   "cell_type": "markdown",
   "id": "6d61fbfa",
   "metadata": {},
   "source": [
    "1.3 Column-wise Deletion (Remove Columns): This is useful to drop columns where most values are missing and also best for Variables with >90% missing values."
   ]
  },
  {
   "cell_type": "code",
   "execution_count": null,
   "id": "5231935b",
   "metadata": {},
   "outputs": [],
   "source": [
    "df.drop(columns=['column_name'], inplace=True)  # Removes specific columns"
   ]
  },
  {
   "cell_type": "markdown",
   "id": "3a93097f",
   "metadata": {},
   "source": [
    "🔸*Imputation Methods*\n",
    "\n",
    "Imputation fills missing values with estimated values to preserve dataset integrity.\n",
    "\n",
    "2.1 Mean/Median Imputation (Numerical)"
   ]
  },
  {
   "cell_type": "markdown",
   "id": "ded5bf1d",
   "metadata": {},
   "source": [
    "### Choosing Between Mean, Median, and Mode Imputation"
   ]
  },
  {
   "cell_type": "markdown",
   "id": "361749a3",
   "metadata": {},
   "source": [
    "Introduction\n",
    "\n",
    "Selecting the appropriate imputation methods (mean, median, or mode) for handling missing values in datasets to preserve the dataset integrity can seem tricky at times. But in this section We'll explore rules of thumb, demonstrate practical implementations using Python, and analyze the effects of each imputation method on data distribution. "
   ]
  },
  {
   "cell_type": "markdown",
   "id": "7f809e21",
   "metadata": {},
   "source": [
    "1. Identify Your Feature Type\n",
    "Determining the type of data is an essential first step in the process.\n",
    "\n",
    "Numeric (continuous or ordinal) → consider mean or median.\n",
    "\n",
    "Categorical (nominal) → use mode."
   ]
  },
  {
   "cell_type": "markdown",
   "id": "00fa289b",
   "metadata": {},
   "source": [
    "2. Next to for the missing rate\n",
    "\n",
    "### Missing rate\n",
    "\n",
    "| **Low (< 10 %)** | **High (> 15 %)** |\n",
    "|----------------------|---------------------|\n",
    "| → continue with mean/median/mode | → consider advanced methods |"
   ]
  },
  {
   "cell_type": "code",
   "execution_count": null,
   "id": "ac03c508",
   "metadata": {},
   "outputs": [
    {
     "name": "stdout",
     "output_type": "stream",
     "text": [
      "\n",
      "Missing Rate:\n",
      "Survived    0.000000\n",
      "Age         0.000000\n",
      "Embarked    0.225479\n",
      "dtype: float64\n"
     ]
    }
   ],
   "source": [
    "missing_count = df.isnull().sum()\n",
    "total_rows = len(df)\n",
    "\n",
    "missing_rate = (missing_count / total_rows) * 100\n",
    "print(f\"\\nMissing Rate:\\n{missing_rate}\")"
   ]
  },
  {
   "cell_type": "markdown",
   "id": "9f4b45f6",
   "metadata": {},
   "source": [
    "Since Embarked has >15% missing values, I will consider using advanced imputation methods because simple single-value fills can heavily bias variance and correlations, such as:\n",
    "\n",
    "→ KNN Imputation (fill missing values using similar rows)\n",
    "\n",
    "→ Regression Imputation (predict missing values based on other features)\n",
    "\n",
    "→ Multiple Imputation (MICE) (create multiple estimations and average them)\n",
    "\n",
    "NB: WILL TACKLE AFTER THIS IMPUTAION METHOD (MEDIAN, MEAN AND MODE)"
   ]
  },
  {
   "cell_type": "markdown",
   "id": "fbfe4f27",
   "metadata": {},
   "source": [
    "3. Check the Distribution (for Numeric Features) i.e Symmetric, roughly bell-shaped\n",
    "\n",
    "| **Distribution Type** | **Imputation Method** | **Reasoning** |\n",
    "|----------------------|---------------------|----------------|\n",
    "| Normal Distribution (Skewness ≈ 0) | Mean Imputation (`fillna(mean)`) | Mean retains true data characteristics |\n",
    "| Moderate Skew (Skewness ≈ 0.5 to 2) | Median Imputation (`fillna(median)`) | Median resists the influence of outliers |\n",
    "| Highly Skewed (Skewness > 2) | Mode Imputation (`fillna(mode)`) | Mode best preserves categorical or extreme values |\n"
   ]
  },
  {
   "cell_type": "markdown",
   "id": "7ba4edbb",
   "metadata": {},
   "source": [
    "4. Assess Outliers\n",
    "\n",
    "→ If you spot extreme outliers in your Data, prefer the median so those points don’t distort your fill-ins.\n",
    "\n",
    "→ If your data has no significant outliers, mean is fine."
   ]
  },
  {
   "cell_type": "markdown",
   "id": "bc3dfeb4",
   "metadata": {},
   "source": [
    "### Here's a Step-by-Step Code Implementation of the (Mean, Median and Mode) Imputation Method 👇"
   ]
  },
  {
   "cell_type": "code",
   "execution_count": 3,
   "id": "5a3ca364",
   "metadata": {},
   "outputs": [
    {
     "name": "stdout",
     "output_type": "stream",
     "text": [
      "Missing Values Count:\n",
      " Survived    0\n",
      "Age         0\n",
      "Embarked    2\n",
      "dtype: int64\n",
      "\n",
      "Data preview:\n"
     ]
    },
    {
     "data": {
      "text/html": [
       "<div>\n",
       "<style scoped>\n",
       "    .dataframe tbody tr th:only-of-type {\n",
       "        vertical-align: middle;\n",
       "    }\n",
       "\n",
       "    .dataframe tbody tr th {\n",
       "        vertical-align: top;\n",
       "    }\n",
       "\n",
       "    .dataframe thead th {\n",
       "        text-align: right;\n",
       "    }\n",
       "</style>\n",
       "<table border=\"1\" class=\"dataframe\">\n",
       "  <thead>\n",
       "    <tr style=\"text-align: right;\">\n",
       "      <th></th>\n",
       "      <th>Survived</th>\n",
       "      <th>Age</th>\n",
       "      <th>Embarked</th>\n",
       "    </tr>\n",
       "  </thead>\n",
       "  <tbody>\n",
       "    <tr>\n",
       "      <th>0</th>\n",
       "      <td>0</td>\n",
       "      <td>22.0</td>\n",
       "      <td>S</td>\n",
       "    </tr>\n",
       "    <tr>\n",
       "      <th>1</th>\n",
       "      <td>1</td>\n",
       "      <td>38.0</td>\n",
       "      <td>C</td>\n",
       "    </tr>\n",
       "    <tr>\n",
       "      <th>2</th>\n",
       "      <td>1</td>\n",
       "      <td>26.0</td>\n",
       "      <td>S</td>\n",
       "    </tr>\n",
       "    <tr>\n",
       "      <th>3</th>\n",
       "      <td>1</td>\n",
       "      <td>35.0</td>\n",
       "      <td>S</td>\n",
       "    </tr>\n",
       "    <tr>\n",
       "      <th>4</th>\n",
       "      <td>0</td>\n",
       "      <td>35.0</td>\n",
       "      <td>S</td>\n",
       "    </tr>\n",
       "  </tbody>\n",
       "</table>\n",
       "</div>"
      ],
      "text/plain": [
       "   Survived   Age Embarked\n",
       "0         0  22.0        S\n",
       "1         1  38.0        C\n",
       "2         1  26.0        S\n",
       "3         1  35.0        S\n",
       "4         0  35.0        S"
      ]
     },
     "execution_count": 3,
     "metadata": {},
     "output_type": "execute_result"
    }
   ],
   "source": [
    "# Import required libraries\n",
    "import pandas as pd\n",
    "import seaborn as sns\n",
    "import matplotlib.pyplot as plt\n",
    "from scipy.stats import skew, kurtosis\n",
    "\n",
    "# Load and preview data\n",
    "url = \"C:/Users/hp/Downloads/titanic.csv\"\n",
    "df = pd.read_csv(url)\n",
    "df = df[['Survived', 'Age', 'Embarked']]  # Focus on relevant columns\n",
    "\n",
    "# 🔍 Step 1: Check for Missing Values\n",
    "print(\"Missing Values Count:\\n\", df.isnull().sum())\n",
    "\n",
    "print(\"\\nData preview:\")\n",
    "df.head()"
   ]
  },
  {
   "cell_type": "code",
   "execution_count": 4,
   "id": "d8e9515a",
   "metadata": {},
   "outputs": [
    {
     "data": {
      "image/png": "[encoded data removed]",
      "text/plain": [
       "<Figure size 640x480 with 1 Axes>"
      ]
     },
     "metadata": {},
     "output_type": "display_data"
    }
   ],
   "source": [
    "sns.histplot(df['Age'].dropna(), kde=True, color='skyblue')\n",
    "plt.title('Age Distribution\\nSkewness: {:.2f}, Kurtosis: {:.2f}'.format(df['Age'].skew(), df['Age'].kurtosis()))\n",
    "plt.show()"
   ]
  },
  {
   "cell_type": "code",
   "execution_count": null,
   "id": "58d600b4",
   "metadata": {},
   "outputs": [
    {
     "name": "stdout",
     "output_type": "stream",
     "text": [
      "Skewness: 0.446, Kurtosis: 0.284\n",
      "⚠️ Data is likely non-normal\n"
     ]
    }
   ],
   "source": [
    "\n",
    "skew_val = skew(df['Age'].dropna())\n",
    "kurt_val = kurtosis(df['Age'].dropna())\n",
    "\n",
    "print(f\"Skewness: {skew_val:.3f}, Kurtosis: {kurt_val:.3f}\")\n",
    "\n",
    "if abs(skew_val) < 0.5 and abs(kurt_val - 3) < 0.5:\n",
    "    print(\"✅ Data appears normally distributed\")\n",
    "else:\n",
    "    print(\"⚠️ Data is likely non-normal\")"
   ]
  },
  {
   "cell_type": "markdown",
   "id": "9a04190e",
   "metadata": {},
   "source": [
    "## Note: I used the technique above to check if the column Age was normally distribute using a histogram, Skewness & Kurtosis ☝️"
   ]
  },
  {
   "cell_type": "code",
   "execution_count": 21,
   "id": "7847ca4f",
   "metadata": {},
   "outputs": [
    {
     "name": "stdout",
     "output_type": "stream",
     "text": [
      "Mean: 29.47, Median: 28.00, Mode: S\n"
     ]
    }
   ],
   "source": [
    "# 🔍 Step 3: Compute Mean, Median, Mode\n",
    "mean_val = df['Age'].mean()\n",
    "median_val = df['Age'].median()\n",
    "mode_val = df['Embarked'].mode()[0]  # Mode might return multiple values\n",
    "\n",
    "print(f\"Mean: {mean_val:.2f}, Median: {median_val:.2f}, Mode: {mode_val}\")"
   ]
  },
  {
   "cell_type": "code",
   "execution_count": 40,
   "id": "8a664af5",
   "metadata": {},
   "outputs": [
    {
     "name": "stdout",
     "output_type": "stream",
     "text": [
      "Skewness: 0.45\n"
     ]
    }
   ],
   "source": [
    "# 🔍 Step 4: Check Skewness\n",
    "skewness = skew(df['Age'].dropna())\n",
    "print(f\"Skewness: {skewness:.2f}\")"
   ]
  },
  {
   "cell_type": "code",
   "execution_count": null,
   "id": "31aa7cae",
   "metadata": {},
   "outputs": [
    {
     "name": "stdout",
     "output_type": "stream",
     "text": [
      "✅ Data is **normally distributed** → Use **Mean Imputation**\n"
     ]
    }
   ],
   "source": [
    "#  Step 5: Decide Imputation Method\n",
    "if abs(skewness) < 0.5:\n",
    "    print(\"✅ Data is **normally distributed** → Use **Mean Imputation**\")\n",
    "elif 0.5 <= abs(skewness) < 2:\n",
    "    print(\"✅ Data is **moderately skewed** → Use **Median Imputation**\")\n",
    "else:\n",
    "    print(\"✅ Data is **highly skewed** → Use **Mode Imputation**\")"
   ]
  },
  {
   "cell_type": "markdown",
   "id": "9654cb83",
   "metadata": {},
   "source": [
    "## Decision Workflow"
   ]
  },
  {
   "cell_type": "markdown",
   "id": "61071e62",
   "metadata": {},
   "source": [
    "```mermaid\n",
    "graph TD\n",
    "  A[Identify Missing Data] --> B{Data Type?}\n",
    "\n",
    "  B -->|Numerical| C[Check Skewness]\n",
    "  B -->|Categorical| D[Use Mode Imputation]\n",
    "\n",
    "  C -->|Skewness ≤ 0.5| E[Use Mean]\n",
    "  C -->|Skewness > 0.5| F[Use Median]\n",
    "\n",
    "  E --> G[Add Missing-Indicator Flag]\n",
    "  F --> G\n",
    "  D --> G"
   ]
  },
  {
   "cell_type": "markdown",
   "id": "c490785a",
   "metadata": {},
   "source": [
    "## 3. Outliers\n",
    "Outliers are data points significantly different from other observations and can negatively impact model performance. The objective here is to be able to detect and manage outliers  without having to discard valuable information. \n",
    "\n",
    "### Identification Techniques\n",
    "Before you ever consider removing or transforming outliers, you must first identify them using either statistical or visualization techniques such as:\n",
    "\n",
    "#### Statistical Methods\n",
    "\n",
    "    Z-score: For normally distributed data, values beyond a certain z-score (e.g., ±2 or ±3) can be considered outliers. But I prefer flagging values beyond ±3 standard deviation\n",
    "    \n",
    "### **Identifying Outliers Using Z-Score**\n",
    "The **Z-score method** helps detect outliers by measuring how far each data point is from the **mean** in terms of standard deviations.\n",
    "\n",
    "#### **🔹 Formula for Z-score**\n",
    "$$\n",
    "z = \\frac{X - \\mu}{\\sigma}\n",
    "$$\n",
    "\n",
    "Where:\n",
    "\n",
    "* $X$ = the data point\n",
    "* $\\mu$ = mean of the dataset\n",
    "* $\\sigma$ = standard deviation of the dataset\n",
    "\n",
    " **Common Outlier Thresholds:**  \n",
    "- **|Z| > 3** → Extreme outlier (More than 3 standard deviations from the mean)  \n",
    "- **|Z| > 2** → Moderate outlier  \n",
    "\n",
    "---\n",
    "\n",
    "\n",
    "| Aspect                | Details                                                              |\n",
    "| --------------------- | -------------------------------------------------------------------- |\n",
    "| **Purpose**           | Identify outliers in a dataset                                       |\n",
    "| **Best For**          | Normally distributed, continuous numerical data                      |\n",
    "| **Common Thresholds** | ±2.0 (moderate outliers), ±3.0 (extreme outliers)                    |\n",
    "| **Limitations**       | Sensitive to non-normal distributions and existing outliers          |\n",
    "| **Alternatives**      | Modified z-score, Interquartile Range (IQR), or other robust methods |\n",
    "| **Dataset**           | Works well in large datasets |"
   ]
  },
  {
   "cell_type": "code",
   "execution_count": 79,
   "id": "52dbf72a",
   "metadata": {},
   "outputs": [],
   "source": [
    "import pandas as pd\n",
    "import matplotlib.pyplot as plt\n",
    "\n",
    "df = pd.DataFrame({'value': [10, 20, 22, 25, 30, 100, 105, 200, 1000]})"
   ]
  },
  {
   "cell_type": "code",
   "execution_count": 81,
   "id": "84bd0d99",
   "metadata": {},
   "outputs": [
    {
     "name": "stdout",
     "output_type": "stream",
     "text": [
      "Outliers:\n",
      "    value   Z_score\n",
      "8   1000  2.615502\n"
     ]
    }
   ],
   "source": [
    "### **🔹 Python Code to Identify Outliers Using Z-Score**\n",
    "\n",
    "# Calculate mean and standard deviation\n",
    "mean_val = df['value'].mean()\n",
    "std_dev = df['value'].std()\n",
    "\n",
    "# Compute Z-score\n",
    "df['Z_score'] = (df['value'] - mean_val) / std_dev\n",
    "\n",
    "# Identify outliers (Z-score greater than 3 or less than -3)\n",
    "outliers = df[df['Z_score'].abs() > 2]\n",
    "\n",
    "print(\"Outliers:\\n\", outliers)"
   ]
  },
  {
   "cell_type": "markdown",
   "id": "e9ed80ff",
   "metadata": {},
   "source": [
    "    IQR (Interquartile Range): For skewed data, values outside the range [Q1 - 1.5 * IQR, Q3 + 1.5 * IQR] are considered outliers."
   ]
  },
  {
   "cell_type": "code",
   "execution_count": 56,
   "id": "49306cd4",
   "metadata": {},
   "outputs": [],
   "source": [
    "# Set thresholds\n",
    "lower = df['value'].quantile(0.05)\n",
    "upper = df['value'].quantile(0.95)"
   ]
  },
  {
   "cell_type": "markdown",
   "id": "9e9af018",
   "metadata": {},
   "source": [
    "#### Visual Methods: Box plots, scatter plots."
   ]
  },
  {
   "cell_type": "code",
   "execution_count": 72,
   "id": "d49735cd",
   "metadata": {},
   "outputs": [
    {
     "data": {
      "image/png": "[encoded data removed]",
      "text/plain": [
       "<Figure size 1200x600 with 2 Axes>"
      ]
     },
     "metadata": {},
     "output_type": "display_data"
    }
   ],
   "source": [
    "fig, (ax1, ax2) = plt.subplots(1, 2, figsize=(12,6))\n",
    "\n",
    "sns.boxplot(x=df['value'], ax=ax1)\n",
    "ax1.set_title('Boxplot of Values')\n",
    "\n",
    "sns.scatterplot(x=df.index, y=df['value'], ax=ax2)\n",
    "ax2.set_title('Scatterplot of Values')\n",
    "\n",
    "plt.tight_layout()\n",
    "plt.show()"
   ]
  },
  {
   "cell_type": "code",
   "execution_count": 58,
   "id": "ec3aac43",
   "metadata": {},
   "outputs": [],
   "source": [
    "Q1 = df['value'].quantile(0.25)\n",
    "Q3 = df['value'].quantile(0.75)\n",
    "IQR = Q3 - Q1"
   ]
  },
  {
   "cell_type": "markdown",
   "id": "9136e70d",
   "metadata": {},
   "source": [
    "### Treatment Approach:\n",
    "    Removal:This method is applied when the data points are so extreme they likely result from data‐entry mistakes (e.g. impossible ages like –5 or 999), You “clean” the dataset by dropping points that have no realistic value."
   ]
  },
  {
   "cell_type": "code",
   "execution_count": 59,
   "id": "611a00b2",
   "metadata": {},
   "outputs": [],
   "source": [
    "\n",
    "df_remove = df[(df['value'] >= Q1 - 1.5 * IQR) & (df['value'] <= Q3 + 1.5 * IQR)]"
   ]
  },
  {
   "cell_type": "markdown",
   "id": "e2f140bd",
   "metadata": {},
   "source": [
    "    Transforming Outliers: Here you apply mathematical transformations (e.g., logarithmic, square root) to reduce the impact of outliers and make the data more normally distributed.\n",
    "You can use **transformation methods** to treat outliers when your dataset has **extreme values that are valid** but cause problems due to **skewness or scale**. Transformations are not meant to \"remove\" outliers, but to **reduce their influence** by compressing the range of the data.\n",
    "\n",
    "Here’s when it makes the most sense to use transformations:\n",
    "\n",
    "---\n",
    "\n",
    "##  Use Transformations When:\n",
    "\n",
    "### 1. **The data is heavily skewed**\n",
    "\n",
    "* Example: income, sales volume, house prices, or anything with a long tail.\n",
    "* If you plot a histogram and see values clustered at one end with a long stretch of large values → transformation can help.\n",
    "* **Goal:** Make the distribution more symmetric for algorithms that prefer normally distributed input (e.g., linear regression, logistic regression).\n",
    "\n",
    "### 2. **Outliers are real and meaningful**\n",
    "\n",
    "* You **don’t want to remove** or cap them because they contain valuable information (e.g., unusually high sales or usage).\n",
    "* Transforming lets you **keep all records** while reducing the outliers’ impact.\n",
    "\n",
    "### 3. **You’re using models sensitive to outliers**\n",
    "\n",
    "* Algorithms like:\n",
    "\n",
    "  * Linear regression\n",
    "  * Logistic regression\n",
    "  * K-means clustering\n",
    "  * PCA\n",
    "* These assume normality or are affected by large distances.\n",
    "* Transforming makes these models more robust and stable.\n",
    "\n",
    "---\n",
    "\n",
    "## ⚠️ When to Avoid Transforming:\n",
    "\n",
    "* If you're using **tree-based models** (like Decision Trees, Random Forest, XGBoost), **you usually don’t need transformations**. These models are not sensitive to scale or skewness.\n",
    "* If interpretability is key (e.g., in business dashboards), transformed values (like log(price)) can confuse stakeholders.\n",
    "* If you have **zero or negative values**, some transformations (like `log`) won't work unless you adjust first (e.g., log(x + 1)).\n",
    "\n",
    "---\n",
    "\n",
    "## 🔄 Common Transformations\n",
    "\n",
    "| Transformation | Use When…                         | Effect                           |\n",
    "| -------------- | --------------------------------- | -------------------------------- |\n",
    "| `log(x)`       | Right-skewed data, large outliers | Compresses large values          |\n",
    "| `log1p(x)`     | Same, but works with 0 values     | Safer than `log(x)`              |\n",
    "| `sqrt(x)`      | Moderate skew                     | Slight compression               |\n",
    "| `Box-Cox`      | You want optimal transformation   | Tests best transformation shape  |\n",
    "| `z-score`      | Standardizing scale               | Doesn’t reduce skew, but centers |\n",
    "\n",
    "---\n",
    "\n",
    "## Example Use Case\n",
    "\n",
    "You have a dataset of online sales transactions. The `purchase_amount` ranges from 200 to 150,000.\n",
    "\n",
    "* **Raw data**: very right-skewed, with most purchases under 1,000, but a few massive ones.\n",
    "* **Problem**: Linear regression overpredicts due to these outliers.\n",
    "* **Solution**: Use `log(purchase_amount)` to compress the large values.\n",
    "* This lets the model learn a more balanced relationship with other features.\n",
    "\n",
    "---\n",
    "\n",
    "### Summary\n",
    "\n",
    "Use **transformation methods** when:\n",
    "\n",
    "* The data is **skewed**\n",
    "* Outliers are **valid**\n",
    "* Your model is **sensitive to scale or distribution**"
   ]
  },
  {
   "cell_type": "code",
   "execution_count": 60,
   "id": "d578f273",
   "metadata": {},
   "outputs": [],
   "source": [
    "df['value'] = np.log1p(df['value'])  # Log transformation"
   ]
  },
  {
   "cell_type": "markdown",
   "id": "afa4e93a",
   "metadata": {},
   "source": [
    "    Capping (Winsorizing): You can use **Capping (Winsorizing)** to treat outliers in your dataset **when the extreme values are valid but too influential**—not errors, but they disproportionately affect the analysis.\n",
    "\n",
    "---\n",
    "\n",
    "###  Useful when:\n",
    "\n",
    "1. **Outliers are real, not mistakes**\n",
    "\n",
    "   * Example: High-income values like ₦50,000,000 in a salary column aren't invalid—but they distort the mean.\n",
    "   * You **want to keep those rows**, just not let the extreme value dominate statistics or model training.\n",
    "\n",
    "2. **You need to reduce the impact of extreme values on models**\n",
    "\n",
    "   * Algorithms like **linear regression**, **K-means**, or **SVM** can be sensitive to extreme values.\n",
    "   * Capping helps avoid skewed coefficients or distorted cluster centers.\n",
    "\n",
    "4. **You're working with skewed data**\n",
    "\n",
    "   * For features with a long right or left tail (e.g. sales, transaction volume), capping can help make the data more symmetric **without discarding any rows**.\n",
    "\n",
    "5. **You’re preparing features for models that assume normality**\n",
    "\n",
    "   * Example: Some statistical tests or machine learning models perform better with near-normal input features.\n",
    "\n",
    "---\n",
    "\n",
    "#### ⚠️ Avoid Capping When\n",
    "\n",
    "* The outliers are **genuine errors** (use removal instead).\n",
    "* You don’t want to **flatten** the tails of your distribution (e.g. in anomaly detection tasks).\n",
    "* The data is **already normal-like** with no significant skew.\n",
    "* You're working with **ordinal categorical data** (capping numerical values would distort category meaning).\n",
    "\n",
    "    \n",
    "---\n",
    "\n",
    "### **How Capping (Winsorizing) Works**\n",
    "\n",
    "1. **Choose thresholds** (usually based on percentiles):\n",
    "\n",
    "   * Commonly used:\n",
    "\n",
    "     * Lower bound = 1st percentile\n",
    "     * Upper bound = 99th percentile\n",
    "       *(Or 5th and 95th, depending on how much you want to limit outliers)*\n",
    "\n",
    "2. **Scan each value in your column**:\n",
    "\n",
    "   * If a value is **below** the lower threshold → set it to the **lower threshold**.\n",
    "   * If a value is **above** the upper threshold → set it to the **upper threshold**.\n",
    "   * All values **within the range** stay unchanged.\n",
    "\n",
    "3. **Result**:\n",
    "\n",
    "   * You keep all rows, but extreme values are “capped” to reduce their influence.\n",
    "\n",
    "    Use Capping When\n",
    "\n",
    "| Use It If...                               | Why It Helps                           |\n",
    "| ------------------------------------------ | -------------------------------------- |\n",
    "| Outliers are real but too extreme          | Retains all rows without big influence |\n",
    "| You want to stabilize mean/variance        | Reduces skew, avoids distortion        |\n",
    "| You're preparing data for sensitive models | Prevents coefficient distortion        |\n",
    "| You're fixing long-tailed numeric features | Helps with normalization & scaling     |\n"
   ]
  },
  {
   "cell_type": "code",
   "execution_count": 74,
   "id": "c9142a64",
   "metadata": {},
   "outputs": [
    {
     "name": "stdout",
     "output_type": "stream",
     "text": [
      "      value  value_capped    median\n",
      "0  2.397895          14.0  3.433987\n",
      "1  3.044522          14.0  3.433987\n",
      "2  3.135494          14.0  3.433987\n",
      "3  3.258097          14.0  3.433987\n",
      "4  3.433987          14.0  3.433987\n",
      "5  4.615121          14.0  3.433987\n",
      "6  4.663439          14.0  3.433987\n",
      "7  5.303305          14.0  3.433987\n",
      "8  6.908755          14.0  3.433987\n"
     ]
    }
   ],
   "source": [
    "# Apply capping\n",
    "df['value_capped'] = df['value'].clip(lower=lower, upper=upper)\n",
    "print(df)\n",
    "\n",
    "# OR\n",
    "\n",
    "df['value_capped'] = np.where(df['value'] > upper, upper, df['value'])\n",
    "df['value_capped'] = np.where(df['value'] < lower, lower, df['value'])"
   ]
  },
  {
   "cell_type": "markdown",
   "id": "8b9fce63",
   "metadata": {},
   "source": [
    "Original values:\n",
    "`[20, 22, 24, 25, 26, 27, 1000]` → 1000 is a clear outlier.\n",
    "\n",
    "Let’s say:\n",
    "\n",
    "* 5th percentile = 21\n",
    "* 95th percentile = 28\n",
    "\n",
    "After capping:\n",
    "`[21, 22, 24, 25, 26, 27, 28]`\n",
    "→ 20 was too low → capped to 21\n",
    "→ 1000 was too high → capped to 28"
   ]
  },
  {
   "cell_type": "markdown",
   "id": "4f2d53db",
   "metadata": {},
   "source": [
    "    Replacing with Mean/Median: \n",
    "We this approach when we have very few extreme values, and you prefer not to drop or cap them. You treat them like “missing” values. You maintain roughly the same dataset size. Replacing an outlier with the column’s mean (or median) reduces its influence without removing the row entirely.\n",
    "    \n",
    "You can use the *Replacing with Mean or Median* method to treat outliers *in very specific situations*, it’s simple and effective, but only when applied with care. Here's when it makes sense:\n",
    "\n",
    "---\n",
    "###  **When to Use Replacing with Mean/Median**\n",
    "\n",
    "#### 1. **Very Few Outliers**\n",
    "\n",
    "* You only have a **small number** of outliers (e.g. 1–5% of the data).\n",
    "* The majority of your data is clean and centered around a reasonable central value.\n",
    "\n",
    "#### 2. **Outliers Are Legitimate But Problematic**\n",
    "\n",
    "* The outliers are **not errors**, but they’re distorting your model (e.g. pulling regression coefficients too far).\n",
    "* You don't want to delete or cap them—just neutralize their impact.\n",
    "\n",
    "#### 3. **You're Prioritizing Simplicity Over Precision**\n",
    "\n",
    "* You're doing exploratory analysis or working with a small dataset.\n",
    "* You want a **quick fix** to balance the feature without losing rows.\n",
    "\n",
    "#### 4. **The Feature is Not Too Skewed**\n",
    "\n",
    "* If the feature is **symmetrical**, you can use the **mean**.\n",
    "* If it’s **skewed**, the **median** is safer (it won’t be pulled by the outliers).\n",
    "\n",
    "#### 5. **You Plan to Flag the Replacement**\n",
    "\n",
    "* You create a **“was\\_outlier” flag column** to keep track of where values were replaced.\n",
    "* This way, your model can still learn from the fact that an outlier existed."
   ]
  },
  {
   "cell_type": "code",
   "execution_count": 73,
   "id": "904d4745",
   "metadata": {},
   "outputs": [],
   "source": [
    "df['median'] = df['value'].median()\n",
    "df['value'] = np.where(df['value'] > upper, df['median'], df['value'])"
   ]
  },
  {
   "cell_type": "markdown",
   "id": "07ca0950",
   "metadata": {},
   "source": [
    "## 4. Duplicates\n",
    " first identify duplicats\n",
    "- Drop exact duplicates"
   ]
  },
  {
   "cell_type": "code",
   "execution_count": null,
   "id": "fd303c56",
   "metadata": {},
   "outputs": [],
   "source": [
    "# (Full Row Matches)\n",
    "# ✔ Removes duplicate records while keeping the first occurrence.\n",
    "df.drop_duplicates(inplace=True)\n",
    "\n",
    "\n",
    "# (Subset of Columns)\n",
    "df.drop_duplicates(subset=['column1', 'column2'], inplace=True)  # Specify columns to check for duplicates. Retains first occurrence, removes others."
   ]
  },
  {
   "cell_type": "markdown",
   "id": "e2b60efb",
   "metadata": {},
   "source": [
    "## 5. Format Standardization\n",
    "This method ensures that data types are correct and consistent across the dataset.\n",
    "- Dates and text"
   ]
  },
  {
   "cell_type": "code",
   "execution_count": null,
   "id": "8093a2a7",
   "metadata": {},
   "outputs": [],
   "source": [
    "df['date'] = pd.to_datetime(df['date'])\n",
    "df['category'] = df['category'].str.lower().str.strip()"
   ]
  }
 ],
 "metadata": {
  "kernelspec": {
   "display_name": "Python 3",
   "language": "python",
   "name": "python3"
  },
  "language_info": {
   "codemirror_mode": {
    "name": "ipython",
    "version": 3
   },
   "file_extension": ".py",
   "mimetype": "text/x-python",
   "name": "python",
   "nbconvert_exporter": "python",
   "pygments_lexer": "ipython3",
   "version": "3.12.5"
  }
 },
 "nbformat": 4,
 "nbformat_minor": 5
}
